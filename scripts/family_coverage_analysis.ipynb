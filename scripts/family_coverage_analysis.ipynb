{
 "cells": [
  {
   "cell_type": "code",
   "execution_count": 1,
   "metadata": {},
   "outputs": [],
   "source": [
    "import pandas as pd\n",
    "import subprocess"
   ]
  },
  {
   "cell_type": "code",
   "execution_count": 2,
   "metadata": {},
   "outputs": [],
   "source": [
    "def get_repeat_number(family_name, bed_file):\n",
    "    cmd = \"grep '{};' {} | wc -l\".format(family_name, bed_file)\n",
    "    ps = subprocess.Popen(cmd,shell=True,stdout=subprocess.PIPE,stderr=subprocess.STDOUT)\n",
    "    return int(ps.communicate()[0])"
   ]
  },
  {
   "cell_type": "code",
   "execution_count": 17,
   "metadata": {},
   "outputs": [],
   "source": [
    "def quantify_family_through_steps(family_name):\n",
    "    original_number = get_repeat_number(family_name,\"../outputs/nosimple_hg38.bed\")\n",
    "    repeats_both_sides = get_repeat_number(family_name,\"../outputs/f50_hg38.bed\") #after_filtering_for_nearby_repeats\n",
    "    edges_removed = get_repeat_number(family_name,\"../outputs/6_f50_hg38_e100.bed\") #after_expanding_and_removing_too_near_to_edges\n",
    "    mapped = get_repeat_number(family_name,\"../outputs/mapped_6_f50_hg38_e100_pantro.bed\")\n",
    "    total_number_mapped = get_repeat_number(family_name, \"../outputs/pantro_hg38_all_repeats_mapped.bed\")\n",
    "    total_number_unmapped = get_repeat_number(family_name, \"../outputs/pantro_hg38_all_repeats_unmapped.bed\")\n",
    "    percent_mapped = 0\n",
    "    if (total_number_mapped+ total_number_unmapped) >0:\n",
    "        percent_mapped = float(total_number_mapped) / (total_number_mapped+ total_number_unmapped)\n",
    "    df_list = [family_name, original_number,original_number-repeats_both_sides,repeats_both_sides-edges_removed,edges_removed-mapped, total_number_mapped , total_number_unmapped, percent_mapped, mapped]\n",
    "    return df_list"
   ]
  },
  {
   "cell_type": "code",
   "execution_count": 18,
   "metadata": {},
   "outputs": [],
   "source": [
    "def build_filter_dataframe(family_list):\n",
    "    lst = []\n",
    "    for family in family_list:\n",
    "        lst.append(quantify_family_through_steps(family))\n",
    "    df = pd.DataFrame(lst, columns = [\"family\", \"original_number\", \"repeats_too_close_both_sides\", \"edge_too_close\", \"unmapped\", \"total_mapped\", \"total_unmapped\", \"percentage_mapped\", \"through_all_filters\"])\n",
    "    return df"
   ]
  },
  {
   "cell_type": "code",
   "execution_count": 27,
   "metadata": {},
   "outputs": [],
   "source": [
    "def get_family_coverage_dataframe(family_name):\n",
    "    file_name = \"../outputs/6_f50_hg38_e100_pantro/alignments/\" + family_name + \"/repeat_alignment_coverage.csv\"\n",
    "    section_col_names= [\"bp\", \"mis\", \"indel\", \"un\"]\n",
    "    left_col_names = [\"left\"+string for string in section_col_names]\n",
    "    repeat_col_names = [\"repeat\"+string for string in section_col_names]\n",
    "    right_col_names = [\"right\"+string for string in section_col_names]\n",
    "    columns = [\"id\"] + left_col_names + repeat_col_names + right_col_names\n",
    "    df = pd.read_csv(file_name,names=columns)\n",
    "    return df"
   ]
  },
  {
   "cell_type": "code",
   "execution_count": 23,
   "metadata": {},
   "outputs": [],
   "source": [
    "LTR26_shared_families = [\"LTR26\", \"LTR26B\", \"LTR26E\"]\n",
    "LTR26_human_only_families = [\"LTR26C\", \"LTR26D\"]\n",
    "ltr26df = build_filter_dataframe(LTR26_shared_families+LTR26_human_only_families)\n"
   ]
  },
  {
   "cell_type": "code",
   "execution_count": 24,
   "metadata": {},
   "outputs": [
    {
     "name": "stdout",
     "output_type": "stream",
     "text": [
      "   family  original_number  percentage_mapped  through_all_filters\n",
      "0   LTR26              625           0.878400                  318\n",
      "1  LTR26B              161           0.888199                   72\n",
      "2  LTR26E              119           0.899160                   59\n",
      "3  LTR26C              300           0.943333                  147\n",
      "4  LTR26D              221           0.773756                   80\n"
     ]
    }
   ],
   "source": [
    "print(ltr26df[[\"family\",\"original_number\", \"percentage_mapped\", \"through_all_filters\"]])"
   ]
  },
  {
   "cell_type": "code",
   "execution_count": 50,
   "metadata": {},
   "outputs": [
    {
     "name": "stdout",
     "output_type": "stream",
     "text": [
      "   family   leftmis  leftindel  leftunaligned    repeatbp  repeatmis  \\\n",
      "0   LTR26  1.415094   0.254717       0.987421  438.251572   1.331792   \n",
      "1  LTR26B  1.194444   0.750000       0.027778  346.819444   1.274583   \n",
      "2  LTR26E  1.644068   0.355932       0.491525  417.355932   1.457627   \n",
      "3  LTR26C  1.108844   0.401361       0.013605  407.755102   1.239796   \n",
      "4  LTR26D  1.250000   0.075000       1.350000  395.200000   1.240750   \n",
      "\n",
      "   repeatindel  repeatunaligned  rightmis  rightindel  rightunaligned  \n",
      "0     0.127107         0.943396  1.562893    0.468553        1.191824  \n",
      "1     0.093611         0.000000  1.097222    0.736111        0.000000  \n",
      "2     0.191525         1.694915  1.338983    0.220339        1.711864  \n",
      "3     0.039388         0.000000  1.265306    0.149660        0.034014  \n",
      "4     0.134625         1.250000  1.137500    0.125000        1.262500  \n"
     ]
    }
   ],
   "source": [
    "mean_list = []\n",
    "for family in LTR26_shared_families + LTR26_human_only_families:\n",
    "    df = get_family_coverage_dataframe(family)\n",
    "    \n",
    "    no_family= df.drop([\"id\", \"leftbp\", \"rightbp\"], axis=1)\n",
    "    mean_list.append([family] + no_family.mean(axis=0).tolist())\n",
    "LTR_26_coverage = pd.DataFrame(mean_list, columns = [\"family\", \"leftmis\", \"leftindel\", \"leftunaligned\", \"repeatbp\",\"repeatmis\", \"repeatindel\", \"repeatunaligned\", \"rightmis\", \"rightindel\", \"rightunaligned\"])\n",
    "print(LTR_26_coverage)"
   ]
  },
  {
   "cell_type": "code",
   "execution_count": 52,
   "metadata": {},
   "outputs": [],
   "source": [
    "pd.set_option('display.expand_frame_repr', False)"
   ]
  },
  {
   "cell_type": "code",
   "execution_count": 53,
   "metadata": {},
   "outputs": [
    {
     "name": "stdout",
     "output_type": "stream",
     "text": [
      "    family   leftmis  leftindel  leftunaligned    repeatbp  repeatmis  repeatindel  repeatunaligned  rightmis  rightindel  rightunaligned\n",
      "0   LTR26C  1.108844   0.401361       0.013605  407.755102   1.239796     0.039388         0.000000  1.265306    0.149660        0.034014\n",
      "1   LTR26D  1.250000   0.075000       1.350000  395.200000   1.240750     0.134625         1.250000  1.137500    0.125000        1.262500\n",
      "2  LTR5_Hs  1.223881   0.328358       0.134328  872.582090   1.683582     0.217463         0.000000  1.417910    0.388060        0.761194\n",
      "3    SVA_E  1.228108   0.399813       0.284824   80.125584   1.224952     0.591200         0.157183  1.286694    0.402929        0.246806\n",
      "4    SVA_F  1.317460   0.962963       1.825397  122.735450   1.665926     0.319735         1.095397  1.492063    0.507937        1.105820\n",
      "5   AluYh7  1.237762   0.286713       0.818182  272.713287   2.024965     0.621049         0.699301  1.279720    0.552448        0.909091\n"
     ]
    }
   ],
   "source": [
    "family_list = [\"LTR26C\", \"LTR26D\", \"LTR5_Hs\", \"SVA_E\", \"SVA_F\",\"AluYh7\"]\n",
    "mean_list = []\n",
    "for family in family_list:\n",
    "    df = get_family_coverage_dataframe(family)\n",
    "    \n",
    "    no_family= df.drop([\"id\", \"leftbp\", \"rightbp\"], axis=1)\n",
    "    mean_list.append([family] + no_family.mean(axis=0).tolist())\n",
    "family_coverage = pd.DataFrame(mean_list, columns = [\"family\", \"leftmis\", \"leftindel\", \"leftunaligned\", \"repeatbp\",\"repeatmis\", \"repeatindel\", \"repeatunaligned\", \"rightmis\", \"rightindel\", \"rightunaligned\"])\n",
    "print(family_coverage)"
   ]
  },
  {
   "cell_type": "code",
   "execution_count": null,
   "metadata": {},
   "outputs": [],
   "source": [
    "\n",
    "family_list = [\"AluYb11\", \"AluYb8a1\", \"LTR26C\", \"LTR26D\", \"LTR5_Hs\", \"SVA_E\", \"SVA_F\", \"AluYi6_4d\",\"AluYj4\",\"AluYh7\"]\n",
    "more_families = [\"ajax\", \"amalthea\", \"ananke\",\"aoede\", \"callisto\", \"COMP-subunit_5SRNA_rnd-6_family-13719\", \"COMP-subunit_5SRNA_rnd-6_family-13720\", \"COMP-subunit_ACRO_rnd-5_family-1624\",\"COMP-subunit_ACRO_rnd-5_family-1625\", \"COMP-subunit_ACRO_rnd-5_family-37\", \"COMP-subunit_ACRO_rnd-5_family-38\", \"COMP-subunit_FAM90A_rnd-6_family-7382\", \"COMP-subunit_TAF11_rnd-6_family-27360\", \"COMP-subunit_TELO_rnd-6_family-10479\", \"COMP-subunit_TELO_rnd-6_family-166\", \"COMP-subunit_VNTR_rnd-6_family-8746\", \"COMP-subunit_VNTR_rnd-6_family-8747\", \"cyllene\", \"DNM1r\", \"elara\", \"erinome\", \"FAM90Ar\", \"ghimalia\", \"harpalyke\", \"HSAT5v1\", \"HSAT5v2\", \"kalyke\", \"MER5A1r\", \"pasiphae\", \"SATR1v\", \"sinpoe\", \"SST1v\", \"teucerv1_5edge\", \"teucerv2_3edge\", \"teucerv3_internal\", \"TIFr\", \"Walusat\", \"SN5\"]"
   ]
  },
  {
   "cell_type": "code",
   "execution_count": 57,
   "metadata": {},
   "outputs": [
    {
     "name": "stdout",
     "output_type": "stream",
     "text": [
      "  family   leftmis  leftindel  leftunaligned    repeatbp  repeatmis  repeatindel  repeatunaligned  rightmis  rightindel  rightunaligned\n",
      "0  SVA_A  1.363432   0.740247       0.297728  147.587829   1.432347     0.337597         0.106393  1.347432    0.590219        0.277094\n",
      "1  SVA_B  1.435395   0.600687       0.800000  145.491065   1.704873     0.495079         0.281237  1.400687    0.711340        0.615120\n",
      "2  SVA_C  1.370709   0.768879       1.752860  336.244851   1.882403     0.532059         0.822334  1.501144    1.077803        0.970252\n",
      "3  SVA_D  1.407524   1.147335       0.529781  420.341693   2.034796     0.613448         0.569185  1.495298    0.918495        2.175549\n",
      "4  SVA_E  1.228108   0.399813       0.284824   80.125584   1.224952     0.591200         0.157183  1.286694    0.402929        0.246806\n",
      "5  SVA_F  1.317460   0.962963       1.825397  122.735450   1.665926     0.319735         1.095397  1.492063    0.507937        1.105820\n"
     ]
    }
   ],
   "source": [
    "sva_family_names = [\"SVA_A\", \"SVA_B\", \"SVA_C\", \"SVA_D\", \"SVA_E\", \"SVA_F\"]\n",
    "mean_list = []\n",
    "for family in sva_family_names:\n",
    "    df = get_family_coverage_dataframe(family)\n",
    "    \n",
    "    no_family= df.drop([\"id\", \"leftbp\", \"rightbp\"], axis=1)\n",
    "    mean_list.append([family] + no_family.mean(axis=0).tolist())\n",
    "family_coverage = pd.DataFrame(mean_list, columns = [\"family\", \"leftmis\", \"leftindel\", \"leftunaligned\", \"repeatbp\",\"repeatmis\", \"repeatindel\", \"repeatunaligned\", \"rightmis\", \"rightindel\", \"rightunaligned\"])\n",
    "print(family_coverage)\n",
    "\n"
   ]
  },
  {
   "cell_type": "code",
   "execution_count": 58,
   "metadata": {},
   "outputs": [
    {
     "name": "stdout",
     "output_type": "stream",
     "text": [
      "  family  original_number  percentage_mapped  through_all_filters\n",
      "0  SVA_A           510460           0.859460                96249\n",
      "1  SVA_B            13911           0.836676                 2910\n",
      "2  SVA_C             2152           0.706320                  437\n",
      "3  SVA_D             1767           0.497453                  319\n",
      "4  SVA_E            12424           0.841597                 3209\n",
      "5  SVA_F             1796           0.397550                  189\n"
     ]
    }
   ],
   "source": [
    "SVAdf = build_filter_dataframe(sva_family_names)\n",
    "print(SVAdf[[\"family\",\"original_number\", \"percentage_mapped\", \"through_all_filters\"]])"
   ]
  },
  {
   "cell_type": "code",
   "execution_count": null,
   "metadata": {},
   "outputs": [],
   "source": [
    "#calculating percentage that are less than half the length of "
   ]
  }
 ],
 "metadata": {
  "kernelspec": {
   "display_name": "base",
   "language": "python",
   "name": "python3"
  },
  "language_info": {
   "codemirror_mode": {
    "name": "ipython",
    "version": 3
   },
   "file_extension": ".py",
   "mimetype": "text/x-python",
   "name": "python",
   "nbconvert_exporter": "python",
   "pygments_lexer": "ipython3",
   "version": "3.12.2"
  }
 },
 "nbformat": 4,
 "nbformat_minor": 2
}
